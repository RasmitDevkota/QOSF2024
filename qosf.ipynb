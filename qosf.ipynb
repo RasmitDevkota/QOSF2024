{
 "cells": [
  {
   "cell_type": "code",
   "execution_count": 112,
   "metadata": {},
   "outputs": [],
   "source": [
    "import numpy as np\n",
    "import matplotlib.pyplot as plt"
   ]
  },
  {
   "cell_type": "code",
   "execution_count": 113,
   "metadata": {},
   "outputs": [],
   "source": [
    "from qiskit import QuantumCircuit, transpile, quantum_info\n",
    "from qiskit_aer import AerSimulator\n",
    "from qiskit.visualization import plot_histogram\n",
    "from qiskit_aer.noise import (NoiseModel, pauli_error, depolarizing_error)\n",
    "from qiskit.circuit import Qubit\n",
    "from qiskit.circuit.library import HGate, XGate, YGate, ZGate, SGate"
   ]
  },
  {
   "cell_type": "code",
   "execution_count": 114,
   "metadata": {},
   "outputs": [],
   "source": [
    "# (i) Build a simple noise model with depolarizing noise\n",
    "def construct_noise_model(qubits, noise_prob):\n",
    "    noise_model = NoiseModel()\n",
    "    error = pauli_error([('X', noise_prob), ('I', 1 - noise_prob)])\n",
    "    noise_model.add_quantum_error(error, ['x'], qubits)\n",
    "    noisy_sim = AerSimulator(noise_model=noise_model)\n",
    "\n",
    "    return noise_model, noisy_sim\n",
    "\n",
    "# def bit_flip(p):\n",
    "    \n",
    "#     return None\n",
    "\n",
    "# def phase_flip(p):\n",
    "    \n",
    "#     return None\n",
    "\n",
    "# def depolarizing_channel(p):\n",
    "#     qcirc = QuantumCircuit(3)\n",
    "\n",
    "#     qcirc.h(1)\n",
    "    \n",
    "#     # qcirc.unitary([[1-p, p], [p, (1-p)]], 2)\n",
    "#     qcirc.initialize([np.sqrt(1-p), np.sqrt(p)], 2)\n",
    "\n",
    "#     qcirc.append(SwapGate().control(1), [2, 0, 1])\n",
    "\n",
    "#     return qcirc\n",
    "\n",
    "# qcirc_dc = depolarizing_channel(1)\n",
    "# qcirc_dc.draw(\"mpl\")"
   ]
  },
  {
   "cell_type": "code",
   "execution_count": 115,
   "metadata": {},
   "outputs": [],
   "source": [
    "# (ii) Create different circuits to test your noise models and choose the observable to measure\n",
    "gate_population = [\n",
    "    [HGate, XGate, YGate, ZGate, SGate],\n",
    "]\n",
    "\n",
    "def randomized_benchmarking_circuit(n_gates):\n",
    "    qcirc = QuantumCircuit(1)\n",
    "\n",
    "    gate_sample_1q = np.random.choice(gate_population[0], n_gates)\n",
    "    \n",
    "    for i in range(2):\n",
    "        shuffled_gates = np.random.permutation(gate_sample_1q)\n",
    "\n",
    "        for gate in shuffled_gates:\n",
    "            qcirc.append(gate(), [0])\n",
    "    \n",
    "    return qcirc\n",
    "\n",
    "# @TODO - implement more test circuits"
   ]
  },
  {
   "cell_type": "code",
   "execution_count": 116,
   "metadata": {},
   "outputs": [],
   "source": [
    "# (iii) Apply the unitary folding method\n",
    "def benchmark_noise(circuit, method, max_noise_scaling, n_qubits=1):\n",
    "    unitary = circuit.to_instruction()\n",
    "    qubits = [0 for i in range(n_qubits)]\n",
    "\n",
    "    base_noise_level = 0.5\n",
    "    step_size = 0.5 if method == \"circuit\" else 2\n",
    "    n_steps = int(np.ceil(max_noise_scaling/step_size))\n",
    "\n",
    "    noise_data = {}\n",
    "    for step in range(0, n_steps):\n",
    "        noise_scaling = base_noise_level + step * step_size\n",
    "        \n",
    "        # quantum circuit with the given observable\n",
    "        noisy_circuit = QuantumCircuit(qubits)\n",
    "        \n",
    "        if method == \"circuit\": # full circuit folding\n",
    "            k = round(circuit.depth() * (noise_scaling - 1)/2)\n",
    "            n = np.mod(k, circuit.depth())\n",
    "            s = k - n\n",
    "            \n",
    "            # original circuit\n",
    "            noisy_circuit.append(unitary, qubits)\n",
    "\n",
    "            # integer foldings\n",
    "            for i in range(n):\n",
    "                noisy_circuit.append(unitary, qubits)\n",
    "                noisy_circuit.append(unitary.inverse(), qubits)\n",
    "\n",
    "            # partial foldings\n",
    "            partial_circuit = circuit\n",
    "            while partial_circuit.depth() > circuit.depth() - s:\n",
    "                partial_circuit.data.pop(0)\n",
    "        elif method == \"gate-left\": # fold first s gates\n",
    "            pass\n",
    "        elif method == \"gate-right\": # fold last s gates\n",
    "            pass\n",
    "        elif method == \"gate-random\": # fold s random gates\n",
    "            pass\n",
    "\n",
    "        # noise model\n",
    "        noise_prob = base_noise_level * noise_scaling\n",
    "        noise_model, noisy_sim = construct_noise_model(qubits, noise_prob)\n",
    "\n",
    "        # get counts\n",
    "        noisy_circuit_transpiled = transpile(noisy_circuit, noisy_sim)\n",
    "        result = noisy_sim.run(noisy_circuit_transpiled).result()\n",
    "        counts = result.get_counts(noisy_circuit_transpiled)\n",
    "\n",
    "        noise_data[noise_prob] = counts\n",
    "\n",
    "    return noise_data\n",
    "\n",
    "def calculate_expectation_values(noise_data):\n",
    "    expectation_values = {}\n",
    "\n",
    "    for key, counts in noise_data.items():\n",
    "        expectation_value = counts[1]/(counts[0]+counts[1])\n",
    "        expectation_values[key] = expectation_value\n",
    "    \n",
    "    return expectation_values"
   ]
  },
  {
   "cell_type": "code",
   "execution_count": 117,
   "metadata": {},
   "outputs": [],
   "source": [
    "# (iv) Apply the extrapolation method to get the zero-noise limit. Different extrapolation methods achieve different results, such as Linear, polynomial, and exponential.\n",
    "def zero_noise_extrapolation(circuit, method, method_options={}):\n",
    "    noise_data = benchmark_noise(circuit, \"circuit\", 10)\n",
    "    expectation_values = calculate_expectation_values(noise_data)\n",
    "\n",
    "    fig, ax = plt.subplots()\n",
    "    ax.scatter(list(expectation_values.keys()), list(expectation_values.values()))\n",
    "    plt.show()\n",
    "\n",
    "    match method:\n",
    "        case \"linear\":\n",
    "            pass\n",
    "        case \"polynomial\":\n",
    "            pass\n",
    "        case \"exponential\":\n",
    "            pass"
   ]
  },
  {
   "cell_type": "code",
   "execution_count": 118,
   "metadata": {},
   "outputs": [
    {
     "data": {
      "image/png": "[encoded data removed]",
      "text/plain": [
       "<Figure size 1439.62x117.056 with 1 Axes>"
      ]
     },
     "execution_count": 118,
     "metadata": {},
     "output_type": "execute_result"
    }
   ],
   "source": [
    "# (v) Compare mitigated and unmitigated results\n",
    "test_circuit = randomized_benchmarking_circuit(8)\n",
    "test_circuit.draw(\"mpl\")"
   ]
  },
  {
   "cell_type": "code",
   "execution_count": 119,
   "metadata": {},
   "outputs": [
    {
     "ename": "CircuitError",
     "evalue": "'Expected an instance of Qubit, Clbit, or AncillaQubit, but was passed 0'",
     "output_type": "error",
     "traceback": [
      "\u001b[0;31m---------------------------------------------------------------------------\u001b[0m",
      "\u001b[0;31mCircuitError\u001b[0m                              Traceback (most recent call last)",
      "Cell \u001b[0;32mIn[119], line 2\u001b[0m\n\u001b[1;32m      1\u001b[0m exp_val_unmitigated \u001b[38;5;241m=\u001b[39m \u001b[38;5;28mNotImplemented\u001b[39m\n\u001b[0;32m----> 2\u001b[0m exp_val_mitigated \u001b[38;5;241m=\u001b[39m \u001b[43mzero_noise_extrapolation\u001b[49m\u001b[43m(\u001b[49m\u001b[43mtest_circuit\u001b[49m\u001b[43m,\u001b[49m\u001b[43m \u001b[49m\u001b[38;5;124;43m\"\u001b[39;49m\u001b[38;5;124;43mexponential\u001b[39;49m\u001b[38;5;124;43m\"\u001b[39;49m\u001b[43m,\u001b[49m\u001b[43m \u001b[49m\u001b[43mmethod_options\u001b[49m\u001b[38;5;241;43m=\u001b[39;49m\u001b[43m{\u001b[49m\u001b[43m}\u001b[49m\u001b[43m)\u001b[49m\n",
      "Cell \u001b[0;32mIn[117], line 3\u001b[0m, in \u001b[0;36mzero_noise_extrapolation\u001b[0;34m(circuit, method, method_options)\u001b[0m\n\u001b[1;32m      2\u001b[0m \u001b[38;5;28;01mdef\u001b[39;00m \u001b[38;5;21mzero_noise_extrapolation\u001b[39m(circuit, method, method_options\u001b[38;5;241m=\u001b[39m{}):\n\u001b[0;32m----> 3\u001b[0m     noise_data \u001b[38;5;241m=\u001b[39m \u001b[43mbenchmark_noise\u001b[49m\u001b[43m(\u001b[49m\u001b[43mcircuit\u001b[49m\u001b[43m,\u001b[49m\u001b[43m \u001b[49m\u001b[38;5;124;43m\"\u001b[39;49m\u001b[38;5;124;43mcircuit\u001b[39;49m\u001b[38;5;124;43m\"\u001b[39;49m\u001b[43m,\u001b[49m\u001b[43m \u001b[49m\u001b[38;5;241;43m10\u001b[39;49m\u001b[43m)\u001b[49m\n\u001b[1;32m      4\u001b[0m     expectation_values \u001b[38;5;241m=\u001b[39m calculate_expectation_values(noise_data)\n\u001b[1;32m      6\u001b[0m     fig, ax \u001b[38;5;241m=\u001b[39m plt\u001b[38;5;241m.\u001b[39msubplots()\n",
      "Cell \u001b[0;32mIn[116], line 15\u001b[0m, in \u001b[0;36mbenchmark_noise\u001b[0;34m(circuit, method, max_noise_scaling, n_qubits)\u001b[0m\n\u001b[1;32m     12\u001b[0m noise_scaling \u001b[38;5;241m=\u001b[39m base_noise_level \u001b[38;5;241m+\u001b[39m step \u001b[38;5;241m*\u001b[39m step_size\n\u001b[1;32m     14\u001b[0m \u001b[38;5;66;03m# quantum circuit with the given observable\u001b[39;00m\n\u001b[0;32m---> 15\u001b[0m noisy_circuit \u001b[38;5;241m=\u001b[39m \u001b[43mQuantumCircuit\u001b[49m\u001b[43m(\u001b[49m\u001b[43mqubits\u001b[49m\u001b[43m)\u001b[49m\n\u001b[1;32m     17\u001b[0m \u001b[38;5;28;01mif\u001b[39;00m method \u001b[38;5;241m==\u001b[39m \u001b[38;5;124m\"\u001b[39m\u001b[38;5;124mcircuit\u001b[39m\u001b[38;5;124m\"\u001b[39m: \u001b[38;5;66;03m# full circuit folding\u001b[39;00m\n\u001b[1;32m     18\u001b[0m     k \u001b[38;5;241m=\u001b[39m \u001b[38;5;28mround\u001b[39m(circuit\u001b[38;5;241m.\u001b[39mdepth() \u001b[38;5;241m*\u001b[39m (noise_scaling \u001b[38;5;241m-\u001b[39m \u001b[38;5;241m1\u001b[39m)\u001b[38;5;241m/\u001b[39m\u001b[38;5;241m2\u001b[39m)\n",
      "File \u001b[0;32m~/projects/QOSF2024/qosf2024/lib/python3.11/site-packages/qiskit/circuit/quantumcircuit.py:267\u001b[0m, in \u001b[0;36mQuantumCircuit.__init__\u001b[0;34m(self, name, global_phase, metadata, *regs)\u001b[0m\n\u001b[1;32m    265\u001b[0m \u001b[38;5;28mself\u001b[39m\u001b[38;5;241m.\u001b[39m_ancillas: \u001b[38;5;28mlist\u001b[39m[AncillaQubit] \u001b[38;5;241m=\u001b[39m []\n\u001b[1;32m    266\u001b[0m \u001b[38;5;28mself\u001b[39m\u001b[38;5;241m.\u001b[39m_calibrations: DefaultDict[\u001b[38;5;28mstr\u001b[39m, \u001b[38;5;28mdict\u001b[39m[\u001b[38;5;28mtuple\u001b[39m, Any]] \u001b[38;5;241m=\u001b[39m defaultdict(\u001b[38;5;28mdict\u001b[39m)\n\u001b[0;32m--> 267\u001b[0m \u001b[38;5;28;43mself\u001b[39;49m\u001b[38;5;241;43m.\u001b[39;49m\u001b[43madd_register\u001b[49m\u001b[43m(\u001b[49m\u001b[38;5;241;43m*\u001b[39;49m\u001b[43mregs\u001b[49m\u001b[43m)\u001b[49m\n\u001b[1;32m    269\u001b[0m \u001b[38;5;66;03m# Parameter table tracks instructions with variable parameters.\u001b[39;00m\n\u001b[1;32m    270\u001b[0m \u001b[38;5;28mself\u001b[39m\u001b[38;5;241m.\u001b[39m_parameter_table \u001b[38;5;241m=\u001b[39m ParameterTable()\n",
      "File \u001b[0;32m~/projects/QOSF2024/qosf2024/lib/python3.11/site-packages/qiskit/circuit/quantumcircuit.py:1508\u001b[0m, in \u001b[0;36mQuantumCircuit.add_register\u001b[0;34m(self, *regs)\u001b[0m\n\u001b[1;32m   1503\u001b[0m             \u001b[38;5;28mself\u001b[39m\u001b[38;5;241m.\u001b[39m_clbit_indices[bit] \u001b[38;5;241m=\u001b[39m BitLocations(\n\u001b[1;32m   1504\u001b[0m                 \u001b[38;5;28mlen\u001b[39m(\u001b[38;5;28mself\u001b[39m\u001b[38;5;241m.\u001b[39m_data\u001b[38;5;241m.\u001b[39mclbits) \u001b[38;5;241m-\u001b[39m \u001b[38;5;241m1\u001b[39m, [(register, idx)]\n\u001b[1;32m   1505\u001b[0m             )\n\u001b[1;32m   1507\u001b[0m \u001b[38;5;28;01melif\u001b[39;00m \u001b[38;5;28misinstance\u001b[39m(register, \u001b[38;5;28mlist\u001b[39m):\n\u001b[0;32m-> 1508\u001b[0m     \u001b[38;5;28;43mself\u001b[39;49m\u001b[38;5;241;43m.\u001b[39;49m\u001b[43madd_bits\u001b[49m\u001b[43m(\u001b[49m\u001b[43mregister\u001b[49m\u001b[43m)\u001b[49m\n\u001b[1;32m   1509\u001b[0m \u001b[38;5;28;01melse\u001b[39;00m:\n\u001b[1;32m   1510\u001b[0m     \u001b[38;5;28;01mraise\u001b[39;00m CircuitError(\u001b[38;5;124m\"\u001b[39m\u001b[38;5;124mexpected a register\u001b[39m\u001b[38;5;124m\"\u001b[39m)\n",
      "File \u001b[0;32m~/projects/QOSF2024/qosf2024/lib/python3.11/site-packages/qiskit/circuit/quantumcircuit.py:1530\u001b[0m, in \u001b[0;36mQuantumCircuit.add_bits\u001b[0;34m(self, bits)\u001b[0m\n\u001b[1;32m   1528\u001b[0m     \u001b[38;5;28mself\u001b[39m\u001b[38;5;241m.\u001b[39m_clbit_indices[bit] \u001b[38;5;241m=\u001b[39m BitLocations(\u001b[38;5;28mlen\u001b[39m(\u001b[38;5;28mself\u001b[39m\u001b[38;5;241m.\u001b[39m_data\u001b[38;5;241m.\u001b[39mclbits) \u001b[38;5;241m-\u001b[39m \u001b[38;5;241m1\u001b[39m, [])\n\u001b[1;32m   1529\u001b[0m \u001b[38;5;28;01melse\u001b[39;00m:\n\u001b[0;32m-> 1530\u001b[0m     \u001b[38;5;28;01mraise\u001b[39;00m CircuitError(\n\u001b[1;32m   1531\u001b[0m         \u001b[38;5;124m\"\u001b[39m\u001b[38;5;124mExpected an instance of Qubit, Clbit, or \u001b[39m\u001b[38;5;124m\"\u001b[39m\n\u001b[1;32m   1532\u001b[0m         \u001b[38;5;124m\"\u001b[39m\u001b[38;5;124mAncillaQubit, but was passed \u001b[39m\u001b[38;5;132;01m{}\u001b[39;00m\u001b[38;5;124m\"\u001b[39m\u001b[38;5;241m.\u001b[39mformat(bit)\n\u001b[1;32m   1533\u001b[0m     )\n",
      "\u001b[0;31mCircuitError\u001b[0m: 'Expected an instance of Qubit, Clbit, or AncillaQubit, but was passed 0'"
     ]
    }
   ],
   "source": [
    "exp_val_unmitigated = NotImplemented\n",
    "exp_val_mitigated = zero_noise_extrapolation(test_circuit, \"exponential\", method_options={})"
   ]
  },
  {
   "cell_type": "code",
   "execution_count": null,
   "metadata": {},
   "outputs": [],
   "source": [
    "# (vi) Bonus: Run your ZNE function in real quantum hardware through the IBM Quantum Service\n"
   ]
  }
 ],
 "metadata": {
  "kernelspec": {
   "display_name": "Python 3",
   "language": "python",
   "name": "python3"
  },
  "language_info": {
   "codemirror_mode": {
    "name": "ipython",
    "version": 3
   },
   "file_extension": ".py",
   "mimetype": "text/x-python",
   "name": "python",
   "nbconvert_exporter": "python",
   "pygments_lexer": "ipython3",
   "version": "3.11.8"
  }
 },
 "nbformat": 4,
 "nbformat_minor": 2
}
