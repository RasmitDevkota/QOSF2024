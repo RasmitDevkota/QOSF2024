{
 "cells": [
  {
   "cell_type": "code",
   "execution_count": 3,
   "metadata": {},
   "outputs": [],
   "source": [
    "import numpy as np"
   ]
  },
  {
   "cell_type": "code",
   "execution_count": 4,
   "metadata": {},
   "outputs": [],
   "source": [
    "\n",
    "from qiskit import QuantumRegister, ClassicalRegister, QuantumCircuit\n",
    "from qiskit.circuit.library import HGate, XGate, YGate, ZGate, TGate, SGate, CXGate, CYGate, CZGate, SwapGate"
   ]
  },
  {
   "cell_type": "code",
   "execution_count": 17,
   "metadata": {},
   "outputs": [
    {
     "name": "stdout",
     "output_type": "stream",
     "text": [
      "Statevector([0.2765638 -0.8197015j , 0.43084421-0.25685634j],\n",
      "            dims=(2,))\n",
      "[0.2765638 -0.8197015j  0.43084421-0.25685634j]\n"
     ]
    }
   ],
   "source": [
    "# from qiskit.quantum_info import random_statevector\n",
    "# state = random_statevector(2) # note: the parameter you pass is the number of entries in the vector, not the number of qubits\n",
    "# print(state)\n",
    "# print(state.data)\n",
    "# qc.initialize(state.data, [0,1])"
   ]
  },
  {
   "cell_type": "code",
   "execution_count": 20,
   "metadata": {},
   "outputs": [
    {
     "data": {
      "image/png": "[encoded data removed]",
      "text/plain": [
       "<Figure size 287.496x284.278 with 1 Axes>"
      ]
     },
     "execution_count": 20,
     "metadata": {},
     "output_type": "execute_result"
    }
   ],
   "source": [
    "# (i) Build a simple noise model with depolarizing noise\n",
    "def bit_flip(p):\n",
    "    \n",
    "    return None\n",
    "\n",
    "def phase_flip(p):\n",
    "    \n",
    "    return None\n",
    "\n",
    "def depolarizing_channel(p):\n",
    "    qcirc = QuantumCircuit(3)\n",
    "\n",
    "    qcirc.h(1)\n",
    "    \n",
    "    # qcirc.unitary([[1-p, p], [p, (1-p)]], 2)\n",
    "    qcirc.initialize([np.sqrt(1-p), np.sqrt(p)], 2)\n",
    "\n",
    "    qcirc.append(SwapGate().control(1), [2, 0, 1])\n",
    "\n",
    "    return qcirc\n",
    "\n",
    "qcirc_dc = depolarizing_channel(1)\n",
    "qcirc_dc.draw(\"mpl\")"
   ]
  },
  {
   "cell_type": "code",
   "execution_count": 33,
   "metadata": {},
   "outputs": [
    {
     "data": {
      "image/png": "[encoded data removed]",
      "text/plain": [
       "<Figure size 1774.06x117.056 with 1 Axes>"
      ]
     },
     "execution_count": 33,
     "metadata": {},
     "output_type": "execute_result"
    }
   ],
   "source": [
    "# (ii) Create different circuits to test your noise models and choose the observable to measure\n",
    "gate_population = [\n",
    "    [HGate, XGate, YGate, ZGate, TGate, SGate],\n",
    "]\n",
    "\n",
    "def randomized_benchmarking_circuit(n_gates):\n",
    "    qcirc = QuantumCircuit(1)\n",
    "\n",
    "    gate_sample_1q = np.random.choice(gate_population[0], n_gates)\n",
    "    \n",
    "    for i in range(2):\n",
    "        shuffled_gates = np.random.permutation(gate_sample_1q)\n",
    "\n",
    "        for gate in shuffled_gates:\n",
    "            qcirc.append(gate(), [0])\n",
    "    \n",
    "    return qcirc\n",
    "\n",
    "def benchmark_noise(noise_model):\n",
    "    # noise model\n",
    "\n",
    "    # for each \n",
    "    qcirc = randomized_benchmarking_circuit(10)\n",
    "\n",
    "    return qcirc.draw(\"mpl\")\n",
    "\n",
    "benchmark_noise()"
   ]
  },
  {
   "cell_type": "code",
   "execution_count": null,
   "metadata": {},
   "outputs": [],
   "source": [
    "# (iii) Apply the unitary folding method\n",
    "def unitary_folding(gate, n):\n",
    "    qcirc = QuantumCircuit()\n",
    "\n",
    "    qcirc.append(gate)\n",
    "\n",
    "    for i in range(n):\n",
    "        qcirc.append(gate)\n",
    "        qcirc.append(gate)\n",
    "\n",
    "    return None"
   ]
  },
  {
   "cell_type": "code",
   "execution_count": null,
   "metadata": {},
   "outputs": [],
   "source": [
    "# (iv) Apply the extrapolation method to get the zero-noise limit. Different extrapolation methods achieve different results, such as Linear, polynomial, and exponential.\n"
   ]
  },
  {
   "cell_type": "code",
   "execution_count": null,
   "metadata": {},
   "outputs": [],
   "source": [
    "# (v) Compare mitigated and unmitigated results\n"
   ]
  },
  {
   "cell_type": "code",
   "execution_count": null,
   "metadata": {},
   "outputs": [],
   "source": [
    "# (vi) Bonus: Run your ZNE function in real quantum hardware through the IBM Quantum Service\n"
   ]
  }
 ],
 "metadata": {
  "kernelspec": {
   "display_name": "Python 3",
   "language": "python",
   "name": "python3"
  },
  "language_info": {
   "codemirror_mode": {
    "name": "ipython",
    "version": 3
   },
   "file_extension": ".py",
   "mimetype": "text/x-python",
   "name": "python",
   "nbconvert_exporter": "python",
   "pygments_lexer": "ipython3",
   "version": "3.11.7"
  }
 },
 "nbformat": 4,
 "nbformat_minor": 2
}
