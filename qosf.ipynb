{
 "cells": [
  {
   "cell_type": "code",
   "execution_count": 756,
   "metadata": {},
   "outputs": [],
   "source": [
    "import numpy as np\n",
    "import matplotlib.pyplot as plt"
   ]
  },
  {
   "cell_type": "code",
   "execution_count": 757,
   "metadata": {},
   "outputs": [],
   "source": [
    "from qiskit import QuantumCircuit, transpile, quantum_info\n",
    "from qiskit_aer import AerSimulator\n",
    "from qiskit.visualization import plot_histogram\n",
    "from qiskit_aer.noise import (NoiseModel, pauli_error, depolarizing_error)\n",
    "from qiskit.circuit import Qubit\n",
    "from qiskit.circuit.library import HGate, XGate, YGate, ZGate, SGate"
   ]
  },
  {
   "cell_type": "code",
   "execution_count": 758,
   "metadata": {},
   "outputs": [],
   "source": [
    "# (i) Build a simple noise model with depolarizing noise\n",
    "def construct_noise_model(qubits, noise_prob):\n",
    "    noise_model = NoiseModel()\n",
    "    error = pauli_error([('X', noise_prob), ('I', 1 - noise_prob)])\n",
    "    error = depolarizing_error(noise_prob, 1)\n",
    "    noise_model.add_quantum_error(error, ['x'], qubits)\n",
    "    noisy_sim = AerSimulator(noise_model=noise_model)\n",
    "\n",
    "    return noise_model, noisy_sim\n",
    "\n",
    "# def bit_flip(p):\n",
    "    \n",
    "#     return None\n",
    "\n",
    "# def phase_flip(p):\n",
    "    \n",
    "#     return None\n",
    "\n",
    "# def depolarizing_channel(p):\n",
    "#     qcirc = QuantumCircuit(3)\n",
    "\n",
    "#     qcirc.h(1)\n",
    "    \n",
    "#     # qcirc.unitary([[1-p, p], [p, (1-p)]], 2)\n",
    "#     qcirc.initialize([np.sqrt(1-p), np.sqrt(p)], 2)\n",
    "\n",
    "#     qcirc.append(SwapGate().control(1), [2, 0, 1])\n",
    "\n",
    "#     return qcirc\n",
    "\n",
    "# qcirc_dc = depolarizing_channel(1)\n",
    "# qcirc_dc.draw(\"mpl\")"
   ]
  },
  {
   "cell_type": "code",
   "execution_count": 759,
   "metadata": {},
   "outputs": [],
   "source": [
    "# (ii) Create different circuits to test your noise models and choose the observable to measure\n",
    "gate_population = [\n",
    "    [HGate, XGate, YGate, ZGate, SGate],\n",
    "]\n",
    "\n",
    "def randomized_benchmarking_circuit(n_gates):\n",
    "    qcirc = QuantumCircuit(1)\n",
    "\n",
    "    gate_sample_1q = np.random.choice(gate_population[0], n_gates)\n",
    "    \n",
    "    shuffled_gates = np.random.permutation(gate_sample_1q)\n",
    "\n",
    "    for gate in shuffled_gates:\n",
    "        qcirc.append(gate(), [0])\n",
    "    \n",
    "    qcirc = qcirc.compose(qcirc.inverse())\n",
    "    \n",
    "    return qcirc\n",
    "\n",
    "# @TODO - implement more test circuits"
   ]
  },
  {
   "cell_type": "code",
   "execution_count": 760,
   "metadata": {},
   "outputs": [],
   "source": [
    "# (iii) Apply the unitary folding method\n",
    "def benchmark_noise(circuit, method, base_noise_level, max_depth_scaling, n_qubits=1):\n",
    "    qubits = [0 for i in range(n_qubits)]\n",
    "\n",
    "    scale_factor_step_size = 1 if method == \"circuit\" else 2\n",
    "\n",
    "    # noise model\n",
    "    noise_prob = base_noise_level\n",
    "    noise_model, noisy_sim = construct_noise_model(qubits, noise_prob)\n",
    "\n",
    "    noise_data = {}\n",
    "    for scale_factor in range(1, max_depth_scaling, scale_factor_step_size):\n",
    "        # quantum circuit with the given observable\n",
    "        noisy_circuit = QuantumCircuit(n_qubits)\n",
    "        \n",
    "        if method == \"circuit\": # full circuit folding\n",
    "            k = round(circuit.depth() * (scale_factor - 1)/2)\n",
    "            n = int(np.floor(k/circuit.depth()))\n",
    "            s = np.mod(k, circuit.depth())\n",
    "            \n",
    "            # original circuit\n",
    "            noisy_circuit = noisy_circuit.compose(circuit)\n",
    "\n",
    "            noisy_circuit.barrier()\n",
    "\n",
    "            # integer foldings\n",
    "            for i in range(n):\n",
    "                noisy_circuit = noisy_circuit.compose(circuit, qubits)\n",
    "                noisy_circuit = noisy_circuit.compose(circuit.inverse(), qubits)\n",
    "                noisy_circuit.barrier()\n",
    "\n",
    "            # partial foldings\n",
    "            partial_circuit = circuit.copy()\n",
    "            while partial_circuit.depth() > circuit.depth() - s:\n",
    "                partial_circuit.data.pop(0)\n",
    "            \n",
    "            noisy_circuit = noisy_circuit.compose(partial_circuit.inverse())\n",
    "            noisy_circuit = noisy_circuit.compose(partial_circuit)\n",
    "\n",
    "            noisy_circuit.barrier()\n",
    "        elif method == \"gate-left\": # fold first s gates\n",
    "            pass\n",
    "        elif method == \"gate-right\": # fold last s gates\n",
    "            pass\n",
    "        elif method == \"gate-random\": # fold s random gates\n",
    "            pass\n",
    "\n",
    "        noisy_circuit.measure_all()\n",
    "\n",
    "        if scale_factor == 3:\n",
    "            noisy_circuit.draw(\"mpl\", filename=\"noisy_circuit.png\")\n",
    "\n",
    "        # get counts\n",
    "        noisy_circuit_transpiled = transpile(noisy_circuit, noisy_sim, optimization_level=0)\n",
    "        result = noisy_sim.run(noisy_circuit_transpiled).result()\n",
    "        counts = result.get_counts(noisy_circuit_transpiled)\n",
    "\n",
    "        noise_data[scale_factor] = counts\n",
    "\n",
    "    return noise_data"
   ]
  },
  {
   "cell_type": "code",
   "execution_count": 761,
   "metadata": {},
   "outputs": [],
   "source": [
    "def calculate_expectation_values(noise_data):\n",
    "    expectation_values = {}\n",
    "\n",
    "    for scale_factor, counts in noise_data.items():\n",
    "        expectation_value = counts[\"1\"]/(counts[\"0\"]+counts[\"1\"])\n",
    "        expectation_values[scale_factor] = expectation_value\n",
    "    \n",
    "    return expectation_values"
   ]
  },
  {
   "cell_type": "code",
   "execution_count": 762,
   "metadata": {},
   "outputs": [],
   "source": [
    "# (iv) Apply the extrapolation method to get the zero-noise limit. Different extrapolation methods achieve different results, such as Linear, polynomial, and exponential.\n",
    "def zero_noise_extrapolation(circuit, method, method_options={}):\n",
    "    scale_factors = []\n",
    "    expectation_values = []\n",
    "\n",
    "    for i in range(10):\n",
    "        noise_data = benchmark_noise(circuit, \"circuit\", 0.05, int(1/0.05)-1)\n",
    "        sample_expectation_values = calculate_expectation_values(noise_data)\n",
    "        \n",
    "        scale_factors.append(list(sample_expectation_values.keys()))\n",
    "        expectation_values.append(list(sample_expectation_values.values()))\n",
    "\n",
    "    fig, ax = plt.subplots()\n",
    "    ax.scatter(scale_factors, expectation_values)\n",
    "    plt.show()\n",
    "\n",
    "    match method:\n",
    "        case \"linear\":\n",
    "            pass\n",
    "        case \"polynomial\":\n",
    "            pass\n",
    "        case \"exponential\":\n",
    "            pass"
   ]
  },
  {
   "cell_type": "code",
   "execution_count": 763,
   "metadata": {},
   "outputs": [
    {
     "data": {
      "image/png": "[encoded data removed]",
      "text/plain": [
       "<Figure size 770.731x117.056 with 1 Axes>"
      ]
     },
     "execution_count": 763,
     "metadata": {},
     "output_type": "execute_result"
    }
   ],
   "source": [
    "test_circuit = randomized_benchmarking_circuit(4)\n",
    "test_circuit.draw(\"mpl\")"
   ]
  },
  {
   "cell_type": "code",
   "execution_count": 764,
   "metadata": {},
   "outputs": [
    {
     "data": {
      "image/png": "[encoded data removed]",
      "text/plain": [
       "<Figure size 640x480 with 1 Axes>"
      ]
     },
     "metadata": {},
     "output_type": "display_data"
    }
   ],
   "source": [
    "# (v) Compare mitigated and unmitigated results\n",
    "exp_val_unmitigated = NotImplemented\n",
    "exp_val_mitigated = zero_noise_extrapolation(test_circuit, \"exponential\", method_options={})"
   ]
  },
  {
   "cell_type": "code",
   "execution_count": 765,
   "metadata": {},
   "outputs": [],
   "source": [
    "# (vi) Bonus: Run your ZNE function in real quantum hardware through the IBM Quantum Service\n"
   ]
  }
 ],
 "metadata": {
  "kernelspec": {
   "display_name": "Python 3",
   "language": "python",
   "name": "python3"
  },
  "language_info": {
   "codemirror_mode": {
    "name": "ipython",
    "version": 3
   },
   "file_extension": ".py",
   "mimetype": "text/x-python",
   "name": "python",
   "nbconvert_exporter": "python",
   "pygments_lexer": "ipython3",
   "version": "3.11.8"
  }
 },
 "nbformat": 4,
 "nbformat_minor": 2
}
